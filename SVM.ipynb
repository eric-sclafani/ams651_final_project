{
 "cells": [
  {
   "cell_type": "code",
   "execution_count": 5,
   "id": "ac52965a",
   "metadata": {},
   "outputs": [],
   "source": [
    "import matplotlib.pyplot as plt\n",
    "import numpy as np\n",
    "from sklearn.svm import SVC\n",
    "from sklearn.feature_extraction.text import TfidfVectorizer\n",
    "from sklearn.metrics import classification_report\n",
    "from text_preprocessor import process_df\n",
    "\n",
    "\n",
    "\n",
    "cleaned_df = process_df(\"ice_cream_reviews.csv\", to_drop=[\"author\", \"date\", \"helpful_yes\", \"helpful_no\"])\n",
    "\n",
    "X_train = cleaned_df[1600:]\n",
    "X_test = cleaned_df[:1600]"
   ]
  },
  {
   "cell_type": "code",
   "execution_count": 6,
   "id": "aaf70c0c",
   "metadata": {},
   "outputs": [
    {
     "data": {
      "text/plain": [
       "<3732x6698 sparse matrix of type '<class 'numpy.float64'>'\n",
       "\twith 74416 stored elements in Compressed Sparse Row format>"
      ]
     },
     "execution_count": 6,
     "metadata": {},
     "output_type": "execute_result"
    }
   ],
   "source": [
    "# instantiate the Term Frequency Inverse Document Frequency vectorizer (TFIDF)\n",
    "tfidf = TfidfVectorizer()\n",
    "\n",
    "\n",
    "# fitting the tfidf vectorizer and also tranforming it\n",
    "train_tfidf = tfidf.fit_transform(X_train[\"review\"])\n",
    "\n",
    "# transform means to turn your documents into a document-term matrix, which is a type of sparse matrix\n",
    "test_tfidf = tfidf.transform(X_test[\"review\"])\n",
    "train_tfidf"
   ]
  },
  {
   "cell_type": "code",
   "execution_count": 12,
   "id": "26197223",
   "metadata": {},
   "outputs": [
    {
     "name": "stdout",
     "output_type": "stream",
     "text": [
      "{'precision': 0.8952380952380953, 'recall': 0.9652448657187994, 'f1-score': 0.9289243633599392, 'support': 1266}\n",
      "{'precision': 0.8127659574468085, 'recall': 0.5718562874251497, 'f1-score': 0.671353251318102, 'support': 334}\n"
     ]
    }
   ],
   "source": [
    "model = SVC(kernel=\"linear\")\n",
    "model.fit(train_tfidf, X_train[\"sentiment\"])\n",
    "prediction = model.predict(test_tfidf)\n",
    "\n",
    "# calculates precision, recall, f1 for each class.\n",
    "report = classification_report(X_test[\"sentiment\"], prediction, output_dict=True)\n",
    "print(report[\"1\"])\n",
    "print(report[\"0\"])"
   ]
  },
  {
   "cell_type": "markdown",
   "id": "c2419139",
   "metadata": {},
   "source": [
    "The cell below contains a modified excerpt from the Python Data Science Handbook by Jake VanderPlas taken from the class notebook C06_SupportVectorMachines.ipynb\n",
    "\n",
    "The text is released under the CC-BY-NC-ND license, and code is released under the MIT license. "
   ]
  },
  {
   "cell_type": "code",
   "execution_count": 9,
   "id": "be044499",
   "metadata": {},
   "outputs": [
    {
     "name": "stdout",
     "output_type": "stream",
     "text": [
      "[0.         0.03448276 0.06896552 0.10344828 0.13793103 0.17241379\n",
      " 0.20689655 0.24137931 0.27586207 0.31034483 0.34482759 0.37931034\n",
      " 0.4137931  0.44827586 0.48275862 0.51724138 0.55172414 0.5862069\n",
      " 0.62068966 0.65517241 0.68965517 0.72413793 0.75862069 0.79310345\n",
      " 0.82758621 0.86206897 0.89655172 0.93103448 0.96551724 1.        ]\n",
      "[0.         0.03448276 0.06896552 0.10344828 0.13793103 0.17241379\n",
      " 0.20689655 0.24137931 0.27586207 0.31034483 0.34482759 0.37931034\n",
      " 0.4137931  0.44827586 0.48275862 0.51724138 0.55172414 0.5862069\n",
      " 0.62068966 0.65517241 0.68965517 0.72413793 0.75862069 0.79310345\n",
      " 0.82758621 0.86206897 0.89655172 0.93103448 0.96551724 1.        ]\n"
     ]
    },
    {
     "ename": "ValueError",
     "evalue": "X has 2 features, but SVC is expecting 6698 features as input.",
     "output_type": "error",
     "traceback": [
      "\u001b[0;31m---------------------------------------------------------------------------\u001b[0m",
      "\u001b[0;31mValueError\u001b[0m                                Traceback (most recent call last)",
      "\u001b[1;32m/home/eric/python/projects/ams651_final_project/SVM.ipynb Cell 5'\u001b[0m in \u001b[0;36m<cell line: 40>\u001b[0;34m()\u001b[0m\n\u001b[1;32m     <a href='vscode-notebook-cell:/home/eric/python/projects/ams651_final_project/SVM.ipynb#ch0000004?line=33'>34</a>\u001b[0m     ax\u001b[39m.\u001b[39mset_xlim(xlim)\n\u001b[1;32m     <a href='vscode-notebook-cell:/home/eric/python/projects/ams651_final_project/SVM.ipynb#ch0000004?line=34'>35</a>\u001b[0m     ax\u001b[39m.\u001b[39mset_ylim(ylim)\n\u001b[0;32m---> <a href='vscode-notebook-cell:/home/eric/python/projects/ams651_final_project/SVM.ipynb#ch0000004?line=39'>40</a>\u001b[0m plot_svc_decision_function(model, plot_support\u001b[39m=\u001b[39;49m\u001b[39mTrue\u001b[39;49;00m)\n",
      "\u001b[1;32m/home/eric/python/projects/ams651_final_project/SVM.ipynb Cell 5'\u001b[0m in \u001b[0;36mplot_svc_decision_function\u001b[0;34m(model, ax, plot_support)\u001b[0m\n\u001b[1;32m     <a href='vscode-notebook-cell:/home/eric/python/projects/ams651_final_project/SVM.ipynb#ch0000004?line=16'>17</a>\u001b[0m Y, X \u001b[39m=\u001b[39m np\u001b[39m.\u001b[39mmeshgrid(y, x)\n\u001b[1;32m     <a href='vscode-notebook-cell:/home/eric/python/projects/ams651_final_project/SVM.ipynb#ch0000004?line=17'>18</a>\u001b[0m xy \u001b[39m=\u001b[39m np\u001b[39m.\u001b[39mvstack([X\u001b[39m.\u001b[39mravel(), Y\u001b[39m.\u001b[39mravel()])\u001b[39m.\u001b[39mT\n\u001b[0;32m---> <a href='vscode-notebook-cell:/home/eric/python/projects/ams651_final_project/SVM.ipynb#ch0000004?line=19'>20</a>\u001b[0m P \u001b[39m=\u001b[39m model\u001b[39m.\u001b[39;49mdecision_function(xy)\u001b[39m.\u001b[39mreshape(X\u001b[39m.\u001b[39mshape)\n\u001b[1;32m     <a href='vscode-notebook-cell:/home/eric/python/projects/ams651_final_project/SVM.ipynb#ch0000004?line=22'>23</a>\u001b[0m \u001b[39m# plot decision boundary and margins\u001b[39;00m\n\u001b[1;32m     <a href='vscode-notebook-cell:/home/eric/python/projects/ams651_final_project/SVM.ipynb#ch0000004?line=23'>24</a>\u001b[0m ax\u001b[39m.\u001b[39mcontour(X, Y, P, colors\u001b[39m=\u001b[39m\u001b[39m'\u001b[39m\u001b[39mb\u001b[39m\u001b[39m'\u001b[39m,\n\u001b[1;32m     <a href='vscode-notebook-cell:/home/eric/python/projects/ams651_final_project/SVM.ipynb#ch0000004?line=24'>25</a>\u001b[0m            levels\u001b[39m=\u001b[39m[\u001b[39m-\u001b[39m\u001b[39m1\u001b[39m, \u001b[39m0\u001b[39m, \u001b[39m1\u001b[39m], alpha\u001b[39m=\u001b[39m\u001b[39m0.5\u001b[39m,\n\u001b[1;32m     <a href='vscode-notebook-cell:/home/eric/python/projects/ams651_final_project/SVM.ipynb#ch0000004?line=25'>26</a>\u001b[0m            linestyles\u001b[39m=\u001b[39m[\u001b[39m'\u001b[39m\u001b[39m--\u001b[39m\u001b[39m'\u001b[39m, \u001b[39m'\u001b[39m\u001b[39m-\u001b[39m\u001b[39m'\u001b[39m, \u001b[39m'\u001b[39m\u001b[39m--\u001b[39m\u001b[39m'\u001b[39m])\n",
      "File \u001b[0;32m~/.local/lib/python3.8/site-packages/sklearn/svm/_base.py:756\u001b[0m, in \u001b[0;36mBaseSVC.decision_function\u001b[0;34m(self, X)\u001b[0m\n\u001b[1;32m    <a href='file:///home/eric/.local/lib/python3.8/site-packages/sklearn/svm/_base.py?line=728'>729</a>\u001b[0m \u001b[39mdef\u001b[39;00m \u001b[39mdecision_function\u001b[39m(\u001b[39mself\u001b[39m, X):\n\u001b[1;32m    <a href='file:///home/eric/.local/lib/python3.8/site-packages/sklearn/svm/_base.py?line=729'>730</a>\u001b[0m     \u001b[39m\"\"\"Evaluate the decision function for the samples in X.\u001b[39;00m\n\u001b[1;32m    <a href='file:///home/eric/.local/lib/python3.8/site-packages/sklearn/svm/_base.py?line=730'>731</a>\u001b[0m \n\u001b[1;32m    <a href='file:///home/eric/.local/lib/python3.8/site-packages/sklearn/svm/_base.py?line=731'>732</a>\u001b[0m \u001b[39m    Parameters\u001b[39;00m\n\u001b[0;32m   (...)\u001b[0m\n\u001b[1;32m    <a href='file:///home/eric/.local/lib/python3.8/site-packages/sklearn/svm/_base.py?line=753'>754</a>\u001b[0m \u001b[39m    transformation of ovo decision function.\u001b[39;00m\n\u001b[1;32m    <a href='file:///home/eric/.local/lib/python3.8/site-packages/sklearn/svm/_base.py?line=754'>755</a>\u001b[0m \u001b[39m    \"\"\"\u001b[39;00m\n\u001b[0;32m--> <a href='file:///home/eric/.local/lib/python3.8/site-packages/sklearn/svm/_base.py?line=755'>756</a>\u001b[0m     dec \u001b[39m=\u001b[39m \u001b[39mself\u001b[39;49m\u001b[39m.\u001b[39;49m_decision_function(X)\n\u001b[1;32m    <a href='file:///home/eric/.local/lib/python3.8/site-packages/sklearn/svm/_base.py?line=756'>757</a>\u001b[0m     \u001b[39mif\u001b[39;00m \u001b[39mself\u001b[39m\u001b[39m.\u001b[39mdecision_function_shape \u001b[39m==\u001b[39m \u001b[39m\"\u001b[39m\u001b[39movr\u001b[39m\u001b[39m\"\u001b[39m \u001b[39mand\u001b[39;00m \u001b[39mlen\u001b[39m(\u001b[39mself\u001b[39m\u001b[39m.\u001b[39mclasses_) \u001b[39m>\u001b[39m \u001b[39m2\u001b[39m:\n\u001b[1;32m    <a href='file:///home/eric/.local/lib/python3.8/site-packages/sklearn/svm/_base.py?line=757'>758</a>\u001b[0m         \u001b[39mreturn\u001b[39;00m _ovr_decision_function(dec \u001b[39m<\u001b[39m \u001b[39m0\u001b[39m, \u001b[39m-\u001b[39mdec, \u001b[39mlen\u001b[39m(\u001b[39mself\u001b[39m\u001b[39m.\u001b[39mclasses_))\n",
      "File \u001b[0;32m~/.local/lib/python3.8/site-packages/sklearn/svm/_base.py:514\u001b[0m, in \u001b[0;36mBaseLibSVM._decision_function\u001b[0;34m(self, X)\u001b[0m\n\u001b[1;32m    <a href='file:///home/eric/.local/lib/python3.8/site-packages/sklearn/svm/_base.py?line=499'>500</a>\u001b[0m \u001b[39m\"\"\"Evaluates the decision function for the samples in X.\u001b[39;00m\n\u001b[1;32m    <a href='file:///home/eric/.local/lib/python3.8/site-packages/sklearn/svm/_base.py?line=500'>501</a>\u001b[0m \n\u001b[1;32m    <a href='file:///home/eric/.local/lib/python3.8/site-packages/sklearn/svm/_base.py?line=501'>502</a>\u001b[0m \u001b[39mParameters\u001b[39;00m\n\u001b[0;32m   (...)\u001b[0m\n\u001b[1;32m    <a href='file:///home/eric/.local/lib/python3.8/site-packages/sklearn/svm/_base.py?line=509'>510</a>\u001b[0m \u001b[39m    in the model.\u001b[39;00m\n\u001b[1;32m    <a href='file:///home/eric/.local/lib/python3.8/site-packages/sklearn/svm/_base.py?line=510'>511</a>\u001b[0m \u001b[39m\"\"\"\u001b[39;00m\n\u001b[1;32m    <a href='file:///home/eric/.local/lib/python3.8/site-packages/sklearn/svm/_base.py?line=511'>512</a>\u001b[0m \u001b[39m# NOTE: _validate_for_predict contains check for is_fitted\u001b[39;00m\n\u001b[1;32m    <a href='file:///home/eric/.local/lib/python3.8/site-packages/sklearn/svm/_base.py?line=512'>513</a>\u001b[0m \u001b[39m# hence must be placed before any other attributes are used.\u001b[39;00m\n\u001b[0;32m--> <a href='file:///home/eric/.local/lib/python3.8/site-packages/sklearn/svm/_base.py?line=513'>514</a>\u001b[0m X \u001b[39m=\u001b[39m \u001b[39mself\u001b[39;49m\u001b[39m.\u001b[39;49m_validate_for_predict(X)\n\u001b[1;32m    <a href='file:///home/eric/.local/lib/python3.8/site-packages/sklearn/svm/_base.py?line=514'>515</a>\u001b[0m X \u001b[39m=\u001b[39m \u001b[39mself\u001b[39m\u001b[39m.\u001b[39m_compute_kernel(X)\n\u001b[1;32m    <a href='file:///home/eric/.local/lib/python3.8/site-packages/sklearn/svm/_base.py?line=516'>517</a>\u001b[0m \u001b[39mif\u001b[39;00m \u001b[39mself\u001b[39m\u001b[39m.\u001b[39m_sparse:\n",
      "File \u001b[0;32m~/.local/lib/python3.8/site-packages/sklearn/svm/_base.py:592\u001b[0m, in \u001b[0;36mBaseLibSVM._validate_for_predict\u001b[0;34m(self, X)\u001b[0m\n\u001b[1;32m    <a href='file:///home/eric/.local/lib/python3.8/site-packages/sklearn/svm/_base.py?line=588'>589</a>\u001b[0m check_is_fitted(\u001b[39mself\u001b[39m)\n\u001b[1;32m    <a href='file:///home/eric/.local/lib/python3.8/site-packages/sklearn/svm/_base.py?line=590'>591</a>\u001b[0m \u001b[39mif\u001b[39;00m \u001b[39mnot\u001b[39;00m callable(\u001b[39mself\u001b[39m\u001b[39m.\u001b[39mkernel):\n\u001b[0;32m--> <a href='file:///home/eric/.local/lib/python3.8/site-packages/sklearn/svm/_base.py?line=591'>592</a>\u001b[0m     X \u001b[39m=\u001b[39m \u001b[39mself\u001b[39;49m\u001b[39m.\u001b[39;49m_validate_data(\n\u001b[1;32m    <a href='file:///home/eric/.local/lib/python3.8/site-packages/sklearn/svm/_base.py?line=592'>593</a>\u001b[0m         X,\n\u001b[1;32m    <a href='file:///home/eric/.local/lib/python3.8/site-packages/sklearn/svm/_base.py?line=593'>594</a>\u001b[0m         accept_sparse\u001b[39m=\u001b[39;49m\u001b[39m\"\u001b[39;49m\u001b[39mcsr\u001b[39;49m\u001b[39m\"\u001b[39;49m,\n\u001b[1;32m    <a href='file:///home/eric/.local/lib/python3.8/site-packages/sklearn/svm/_base.py?line=594'>595</a>\u001b[0m         dtype\u001b[39m=\u001b[39;49mnp\u001b[39m.\u001b[39;49mfloat64,\n\u001b[1;32m    <a href='file:///home/eric/.local/lib/python3.8/site-packages/sklearn/svm/_base.py?line=595'>596</a>\u001b[0m         order\u001b[39m=\u001b[39;49m\u001b[39m\"\u001b[39;49m\u001b[39mC\u001b[39;49m\u001b[39m\"\u001b[39;49m,\n\u001b[1;32m    <a href='file:///home/eric/.local/lib/python3.8/site-packages/sklearn/svm/_base.py?line=596'>597</a>\u001b[0m         accept_large_sparse\u001b[39m=\u001b[39;49m\u001b[39mFalse\u001b[39;49;00m,\n\u001b[1;32m    <a href='file:///home/eric/.local/lib/python3.8/site-packages/sklearn/svm/_base.py?line=597'>598</a>\u001b[0m         reset\u001b[39m=\u001b[39;49m\u001b[39mFalse\u001b[39;49;00m,\n\u001b[1;32m    <a href='file:///home/eric/.local/lib/python3.8/site-packages/sklearn/svm/_base.py?line=598'>599</a>\u001b[0m     )\n\u001b[1;32m    <a href='file:///home/eric/.local/lib/python3.8/site-packages/sklearn/svm/_base.py?line=600'>601</a>\u001b[0m \u001b[39mif\u001b[39;00m \u001b[39mself\u001b[39m\u001b[39m.\u001b[39m_sparse \u001b[39mand\u001b[39;00m \u001b[39mnot\u001b[39;00m sp\u001b[39m.\u001b[39misspmatrix(X):\n\u001b[1;32m    <a href='file:///home/eric/.local/lib/python3.8/site-packages/sklearn/svm/_base.py?line=601'>602</a>\u001b[0m     X \u001b[39m=\u001b[39m sp\u001b[39m.\u001b[39mcsr_matrix(X)\n",
      "File \u001b[0;32m~/.local/lib/python3.8/site-packages/sklearn/base.py:585\u001b[0m, in \u001b[0;36mBaseEstimator._validate_data\u001b[0;34m(self, X, y, reset, validate_separately, **check_params)\u001b[0m\n\u001b[1;32m    <a href='file:///home/eric/.local/lib/python3.8/site-packages/sklearn/base.py?line=581'>582</a>\u001b[0m     out \u001b[39m=\u001b[39m X, y\n\u001b[1;32m    <a href='file:///home/eric/.local/lib/python3.8/site-packages/sklearn/base.py?line=583'>584</a>\u001b[0m \u001b[39mif\u001b[39;00m \u001b[39mnot\u001b[39;00m no_val_X \u001b[39mand\u001b[39;00m check_params\u001b[39m.\u001b[39mget(\u001b[39m\"\u001b[39m\u001b[39mensure_2d\u001b[39m\u001b[39m\"\u001b[39m, \u001b[39mTrue\u001b[39;00m):\n\u001b[0;32m--> <a href='file:///home/eric/.local/lib/python3.8/site-packages/sklearn/base.py?line=584'>585</a>\u001b[0m     \u001b[39mself\u001b[39;49m\u001b[39m.\u001b[39;49m_check_n_features(X, reset\u001b[39m=\u001b[39;49mreset)\n\u001b[1;32m    <a href='file:///home/eric/.local/lib/python3.8/site-packages/sklearn/base.py?line=586'>587</a>\u001b[0m \u001b[39mreturn\u001b[39;00m out\n",
      "File \u001b[0;32m~/.local/lib/python3.8/site-packages/sklearn/base.py:400\u001b[0m, in \u001b[0;36mBaseEstimator._check_n_features\u001b[0;34m(self, X, reset)\u001b[0m\n\u001b[1;32m    <a href='file:///home/eric/.local/lib/python3.8/site-packages/sklearn/base.py?line=396'>397</a>\u001b[0m     \u001b[39mreturn\u001b[39;00m\n\u001b[1;32m    <a href='file:///home/eric/.local/lib/python3.8/site-packages/sklearn/base.py?line=398'>399</a>\u001b[0m \u001b[39mif\u001b[39;00m n_features \u001b[39m!=\u001b[39m \u001b[39mself\u001b[39m\u001b[39m.\u001b[39mn_features_in_:\n\u001b[0;32m--> <a href='file:///home/eric/.local/lib/python3.8/site-packages/sklearn/base.py?line=399'>400</a>\u001b[0m     \u001b[39mraise\u001b[39;00m \u001b[39mValueError\u001b[39;00m(\n\u001b[1;32m    <a href='file:///home/eric/.local/lib/python3.8/site-packages/sklearn/base.py?line=400'>401</a>\u001b[0m         \u001b[39mf\u001b[39m\u001b[39m\"\u001b[39m\u001b[39mX has \u001b[39m\u001b[39m{\u001b[39;00mn_features\u001b[39m}\u001b[39;00m\u001b[39m features, but \u001b[39m\u001b[39m{\u001b[39;00m\u001b[39mself\u001b[39m\u001b[39m.\u001b[39m\u001b[39m__class__\u001b[39m\u001b[39m.\u001b[39m\u001b[39m__name__\u001b[39m\u001b[39m}\u001b[39;00m\u001b[39m \u001b[39m\u001b[39m\"\u001b[39m\n\u001b[1;32m    <a href='file:///home/eric/.local/lib/python3.8/site-packages/sklearn/base.py?line=401'>402</a>\u001b[0m         \u001b[39mf\u001b[39m\u001b[39m\"\u001b[39m\u001b[39mis expecting \u001b[39m\u001b[39m{\u001b[39;00m\u001b[39mself\u001b[39m\u001b[39m.\u001b[39mn_features_in_\u001b[39m}\u001b[39;00m\u001b[39m features as input.\u001b[39m\u001b[39m\"\u001b[39m\n\u001b[1;32m    <a href='file:///home/eric/.local/lib/python3.8/site-packages/sklearn/base.py?line=402'>403</a>\u001b[0m     )\n",
      "\u001b[0;31mValueError\u001b[0m: X has 2 features, but SVC is expecting 6698 features as input."
     ]
    },
    {
     "data": {
      "image/png": "[encoded data removed]",
      "text/plain": [
       "<Figure size 432x288 with 1 Axes>"
      ]
     },
     "metadata": {
      "needs_background": "light"
     },
     "output_type": "display_data"
    }
   ],
   "source": [
    "\n",
    "\n",
    "\n",
    "def plot_svc_decision_function(model, ax=None, plot_support=True):\n",
    "    \"\"\"Plot the decision function for a 2D SVC\"\"\"\n",
    "    if ax is None:\n",
    "        ax = plt.gca()\n",
    "        \n",
    "    xlim = ax.get_xlim()\n",
    "    ylim = ax.get_ylim()\n",
    "    \n",
    "    \n",
    "    # create grid to evaluate model. COnstructs a uniform mesh of values\n",
    "    x = np.linspace(xlim[0], xlim[1], 30)\n",
    "    y = np.linspace(ylim[0], ylim[1], 30)\n",
    "    Y, X = np.meshgrid(y, x)\n",
    "    xy = np.vstack([X.ravel(), Y.ravel()]).T\n",
    "    \n",
    "    \n",
    "    P = model.decision_function(xy).reshape(X.shape)\n",
    "    \n",
    "    \n",
    "    # plot decision boundary and margins\n",
    "    ax.contour(X, Y, P, colors='b',\n",
    "               levels=[-1, 0, 1], alpha=0.5,\n",
    "               linestyles=['--', '-', '--'])\n",
    "    \n",
    "    # plot support vectors\n",
    "    print(plot_support)\n",
    "    if plot_support:\n",
    "        ax.scatter(model.support_vectors_[:, 0],\n",
    "                   model.support_vectors_[:, 1],\n",
    "                   s=300, linewidth=1, facecolors='none',edgecolors='k')\n",
    "    ax.set_xlim(xlim)\n",
    "    ax.set_ylim(ylim)\n",
    "    \n",
    "    \n",
    "\n",
    "\n",
    "plot_svc_decision_function(model, plot_support=True) \n",
    "\n"
   ]
  },
  {
   "cell_type": "code",
   "execution_count": null,
   "id": "7c016893",
   "metadata": {},
   "outputs": [],
   "source": []
  }
 ],
 "metadata": {
  "kernelspec": {
   "display_name": "Python 3 (ipykernel)",
   "language": "python",
   "name": "python3"
  },
  "language_info": {
   "codemirror_mode": {
    "name": "ipython",
    "version": 3
   },
   "file_extension": ".py",
   "mimetype": "text/x-python",
   "name": "python",
   "nbconvert_exporter": "python",
   "pygments_lexer": "ipython3",
   "version": "3.8.10"
  }
 },
 "nbformat": 4,
 "nbformat_minor": 5
}
