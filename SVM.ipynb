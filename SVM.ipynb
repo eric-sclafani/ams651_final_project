{
 "cells": [
  {
   "cell_type": "code",
   "execution_count": 1,
   "id": "ac52965a",
   "metadata": {},
   "outputs": [],
   "source": [
    "import matplotlib.pyplot as plt\n",
    "from sklearn.svm import SVC\n",
    "from sklearn.feature_extraction.text import TfidfVectorizer\n",
    "from sklearn.metrics import classification_report\n",
    "from text_preprocessor import process_df\n",
    "\n",
    "\n",
    "\n",
    "cleaned_df = process_df(\"ice_cream_reviews.csv\", to_drop=[\"author\", \"date\", \"helpful_yes\", \"helpful_no\"])\n",
    "\n",
    "X_train = cleaned_df[1600:]\n",
    "X_test = cleaned_df[:1600]"
   ]
  },
  {
   "cell_type": "code",
   "execution_count": 2,
   "id": "aaf70c0c",
   "metadata": {},
   "outputs": [
    {
     "data": {
      "text/plain": [
       "<3732x6698 sparse matrix of type '<class 'numpy.float64'>'\n",
       "\twith 74416 stored elements in Compressed Sparse Row format>"
      ]
     },
     "execution_count": 2,
     "metadata": {},
     "output_type": "execute_result"
    }
   ],
   "source": [
    "# instantiate the Term Frequency Inverse Document Frequency vectorizer (TFIDF)\n",
    "tfidf = TfidfVectorizer()\n",
    "\n",
    "\n",
    "# fitting the tfidf vectorizer and also tranforming it\n",
    "train_tfidf = tfidf.fit_transform(X_train[\"review\"])\n",
    "\n",
    "# transform means to turn your documents into a document-term matrix, which is a type of sparse matrix\n",
    "test_tfidf = tfidf.transform(X_test[\"review\"])\n",
    "train_tfidf"
   ]
  },
  {
   "cell_type": "code",
   "execution_count": 3,
   "id": "26197223",
   "metadata": {},
   "outputs": [
    {
     "name": "stdout",
     "output_type": "stream",
     "text": [
      "{'precision': 0.8952380952380953, 'recall': 0.9652448657187994, 'f1-score': 0.9289243633599392, 'support': 1266}\n",
      "{'precision': 0.8127659574468085, 'recall': 0.5718562874251497, 'f1-score': 0.671353251318102, 'support': 334}\n"
     ]
    }
   ],
   "source": [
    "model = SVC(kernel=\"linear\")\n",
    "model.fit(train_tfidf, X_train[\"sentiment\"])\n",
    "prediction = model.predict(test_tfidf)\n",
    "\n",
    "# calculates precision, recall, f1 for each class.\n",
    "report = classification_report(X_test[\"sentiment\"], prediction, output_dict=True)\n",
    "print(report[\"1\"])\n",
    "print(report[\"0\"])"
   ]
  },
  {
   "cell_type": "code",
   "execution_count": null,
   "id": "be044499",
   "metadata": {},
   "outputs": [],
   "source": []
  },
  {
   "cell_type": "code",
   "execution_count": null,
   "id": "7c016893",
   "metadata": {},
   "outputs": [],
   "source": []
  }
 ],
 "metadata": {
  "kernelspec": {
   "display_name": "Python 3 (ipykernel)",
   "language": "python",
   "name": "python3"
  },
  "language_info": {
   "codemirror_mode": {
    "name": "ipython",
    "version": 3
   },
   "file_extension": ".py",
   "mimetype": "text/x-python",
   "name": "python",
   "nbconvert_exporter": "python",
   "pygments_lexer": "ipython3",
   "version": "3.8.10"
  }
 },
 "nbformat": 4,
 "nbformat_minor": 5
}
